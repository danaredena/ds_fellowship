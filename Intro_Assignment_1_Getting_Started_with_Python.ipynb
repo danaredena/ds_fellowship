{
 "cells": [
  {
   "cell_type": "markdown",
   "metadata": {
    "colab_type": "text",
    "id": "51dZwqDNc9x6"
   },
   "source": [
    "# Data Science - Getting Started with Python\n",
    "\n",
    "Following are exercises you should complete. Workflow:\n",
    "\n",
    "1. Complete the exercises! This means fill out the code cells, and run them (shift-enter or click the play button that appears when you're in one of them)\n",
    "2. Take a look at your work, and write comments/add text cells as appropriate to explain\n",
    "3. Upload the notebook to your GitHub repository and submit a link [here](https://docs.google.com/forms/d/e/1FAIpQLScdlw-GN3tHPHxROIulxoPmxXmvK-UmXco3lgjiJ0Ckltn6QA/viewform?usp=sf_link)"
   ]
  },
  {
   "cell_type": "markdown",
   "metadata": {
    "colab_type": "text",
    "id": "I6biutgwdgpb"
   },
   "source": [
    "## Exercise 1 - A bit of Math\n",
    "\n",
    "For these \"word\" problems, use Python to clearly solve them. Your code will \"show your work\" - use good variable names! To show your answers you should write a `print()` statement at the end.\n",
    "\n",
    "### a) It's a gas\n",
    "\n",
    "A taxi driver is calculating their profit over two weeks by adding up the fares they charge and subtracting the cost of gas. The price of gas changes over time - it was `$3.52`/gallon the first week and `$3.57`/gallon this second week. Their car gets 20 miles per gallon.\n",
    "\n",
    "For the first week the driver had a total of 23 passengers with average `$29` fare each, and drove a total of 160 miles. For the second week they had 17 passengers with average `$30` fare each, and drove a total of 220 miles. Assume that for both weeks they purchase all the gas needed during that week (i.e. they refuel every week to maintain a constant level of gas in the tank).\n",
    "\n",
    "Based on the above, answer the following questions:\n",
    "\n",
    "- What is their total profit over both weeks?\n",
    "- During which week was their average (mean) profit per passenger higher?\n"
   ]
  },
  {
   "cell_type": "code",
   "execution_count": 36,
   "metadata": {
    "colab": {},
    "colab_type": "code",
    "id": "CWJeYQW6AoGf"
   },
   "outputs": [],
   "source": [
    "# your code here\n",
    "import numpy as np\n",
    "import pandas as pd \n",
    "\n",
    "miles_per_gallon = 20\n",
    "df = pd.DataFrame([[1, 23, 29, 160, 3.52],\n",
    "                  [2, 17, 30, 220, 3.57]\n",
    "                 ], columns=['week', 'passenger count', 'fare', 'miles', 'gas price per gallon'])"
   ]
  },
  {
   "cell_type": "code",
   "execution_count": 37,
   "metadata": {},
   "outputs": [],
   "source": [
    "df['gas purchased'] = df['miles']/ miles_per_gallon * df['gas price per gallon']"
   ]
  },
  {
   "cell_type": "code",
   "execution_count": 38,
   "metadata": {},
   "outputs": [],
   "source": [
    "df['earnings'] = df['passenger count'] * df['fare']"
   ]
  },
  {
   "cell_type": "code",
   "execution_count": 39,
   "metadata": {},
   "outputs": [],
   "source": [
    "df['profit'] = df['earnings'] - df['gas purchased'] \n",
    "df['profit per passenger'] = df['profit'] /df['passenger count']"
   ]
  },
  {
   "cell_type": "code",
   "execution_count": 40,
   "metadata": {},
   "outputs": [
    {
     "data": {
      "text/html": [
       "<div>\n",
       "<style scoped>\n",
       "    .dataframe tbody tr th:only-of-type {\n",
       "        vertical-align: middle;\n",
       "    }\n",
       "\n",
       "    .dataframe tbody tr th {\n",
       "        vertical-align: top;\n",
       "    }\n",
       "\n",
       "    .dataframe thead th {\n",
       "        text-align: right;\n",
       "    }\n",
       "</style>\n",
       "<table border=\"1\" class=\"dataframe\">\n",
       "  <thead>\n",
       "    <tr style=\"text-align: right;\">\n",
       "      <th></th>\n",
       "      <th>week</th>\n",
       "      <th>passenger count</th>\n",
       "      <th>fare</th>\n",
       "      <th>miles</th>\n",
       "      <th>gas price per gallon</th>\n",
       "      <th>gas purchased</th>\n",
       "      <th>earnings</th>\n",
       "      <th>profit</th>\n",
       "      <th>profit per passenger</th>\n",
       "    </tr>\n",
       "  </thead>\n",
       "  <tbody>\n",
       "    <tr>\n",
       "      <th>0</th>\n",
       "      <td>1</td>\n",
       "      <td>23</td>\n",
       "      <td>29</td>\n",
       "      <td>160</td>\n",
       "      <td>3.52</td>\n",
       "      <td>28.16</td>\n",
       "      <td>667</td>\n",
       "      <td>638.84</td>\n",
       "      <td>27.775652</td>\n",
       "    </tr>\n",
       "    <tr>\n",
       "      <th>1</th>\n",
       "      <td>2</td>\n",
       "      <td>17</td>\n",
       "      <td>30</td>\n",
       "      <td>220</td>\n",
       "      <td>3.57</td>\n",
       "      <td>39.27</td>\n",
       "      <td>510</td>\n",
       "      <td>470.73</td>\n",
       "      <td>27.690000</td>\n",
       "    </tr>\n",
       "  </tbody>\n",
       "</table>\n",
       "</div>"
      ],
      "text/plain": [
       "   week  passenger count  fare  miles  gas price per gallon  gas purchased  \\\n",
       "0     1               23    29    160                  3.52          28.16   \n",
       "1     2               17    30    220                  3.57          39.27   \n",
       "\n",
       "   earnings  profit  profit per passenger  \n",
       "0       667  638.84             27.775652  \n",
       "1       510  470.73             27.690000  "
      ]
     },
     "execution_count": 40,
     "metadata": {},
     "output_type": "execute_result"
    }
   ],
   "source": [
    "df"
   ]
  },
  {
   "cell_type": "code",
   "execution_count": 41,
   "metadata": {},
   "outputs": [
    {
     "name": "stdout",
     "output_type": "stream",
     "text": [
      "What is their total profit over both weeks? 1109.570000\n"
     ]
    }
   ],
   "source": [
    "print('What is their total profit over both weeks? %f' % df['profit'].sum())"
   ]
  },
  {
   "cell_type": "code",
   "execution_count": 45,
   "metadata": {},
   "outputs": [
    {
     "name": "stdout",
     "output_type": "stream",
     "text": [
      "During which week was their average (mean) profit per passenger higher? Week 1\n"
     ]
    }
   ],
   "source": [
    "week_higher = df.loc[df['profit per passenger'].idxmax(), 'week']\n",
    "print('During which week was their average (mean) profit per passenger higher? Week %d' % week_higher)"
   ]
  },
  {
   "cell_type": "markdown",
   "metadata": {
    "colab_type": "text",
    "id": "0l4bUPHmR5Ko"
   },
   "source": [
    "### b) Mo' money...\n",
    "\n",
    "A cash drawer contains 160 bills, all 10s and 50s. The total value of the 10s and 50s is $1,760.\n",
    "\n",
    "How many of each type of bill are in the drawer? You can figure this out by trial and error (or by doing algebra with pencil and paper), but try to use loops and conditionals to check a plausible possibilities and stop when you find the correct one."
   ]
  },
  {
   "cell_type": "code",
   "execution_count": 60,
   "metadata": {
    "colab": {},
    "colab_type": "code",
    "id": "Q2Atz_kyR8_6"
   },
   "outputs": [
    {
     "name": "stdout",
     "output_type": "stream",
     "text": [
      "There are 156 10 bills and 4 50 bills\n"
     ]
    }
   ],
   "source": [
    "total_count = 160\n",
    "x = 1\n",
    "y = total_count - x\n",
    "while True:\n",
    "    if 10 * x + 50 * y == 1760:\n",
    "        print(\"There are %d 10 bills and %d 50 bills\" % (x, y))\n",
    "        break\n",
    "    x += 1\n",
    "    y = total_count - x"
   ]
  },
  {
   "cell_type": "markdown",
   "metadata": {
    "colab_type": "text",
    "id": "UCFtX_q9aQlc"
   },
   "source": [
    "## Exercise 2 - Drawing a plot\n",
    "\n",
    "Use NumPy and Matplotlib to draw a scatterplot of uniform random `(x, y)` values all drawn from the `[0, 1]` interval. Helpful documentation:\n",
    "\n",
    "*   https://matplotlib.org/tutorials/index.html\n",
    "*   https://docs.scipy.org/doc/numpy/user/quickstart.html\n",
    "\n",
    "Stretch goal - draw more plots! You can refer to the [Matplotlib gallery](https://matplotlib.org/gallery.html) for inspiration, but don't just reproduce something - try to apply it to your own data.\n",
    "\n",
    "How to get data? There's *many* ways, but a good place to get started is with [sklearn.datasets](http://scikit-learn.org/stable/datasets/index.html):\n",
    "\n",
    "```\n",
    "from sklearn import datasets\n",
    "dir(datasets)\n",
    "```"
   ]
  },
  {
   "cell_type": "code",
   "execution_count": 77,
   "metadata": {
    "colab": {},
    "colab_type": "code",
    "id": "pNEb09gMaltL"
   },
   "outputs": [
    {
     "data": {
      "text/plain": [
       "<matplotlib.collections.PathCollection at 0x1a19923390>"
      ]
     },
     "execution_count": 77,
     "metadata": {},
     "output_type": "execute_result"
    },
    {
     "data": {
      "image/png": "[encoded data removed]",
      "text/plain": [
       "<Figure size 432x288 with 1 Axes>"
      ]
     },
     "metadata": {},
     "output_type": "display_data"
    }
   ],
   "source": [
    "import matplotlib.pyplot as plt\n",
    "    \n",
    "x = np.random.uniform(0, 1, size=50)\n",
    "y = np.random.uniform(0, 1, size=50)\n",
    "\n",
    "plt.scatter(x, y)"
   ]
  },
  {
   "cell_type": "code",
   "execution_count": null,
   "metadata": {},
   "outputs": [],
   "source": []
  }
 ],
 "metadata": {
  "colab": {
   "collapsed_sections": [],
   "name": "LSDS Intro Assignment 1 - Getting Started with Python.ipynb",
   "provenance": [],
   "version": "0.3.2"
  },
  "kernelspec": {
   "display_name": "Python 3",
   "language": "python",
   "name": "python3"
  },
  "language_info": {
   "codemirror_mode": {
    "name": "ipython",
    "version": 3
   },
   "file_extension": ".py",
   "mimetype": "text/x-python",
   "name": "python",
   "nbconvert_exporter": "python",
   "pygments_lexer": "ipython3",
   "version": "3.6.5"
  }
 },
 "nbformat": 4,
 "nbformat_minor": 2
}
