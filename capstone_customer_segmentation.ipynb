{
 "cells": [
  {
   "cell_type": "markdown",
   "metadata": {},
   "source": [
    "<h1>Capstone Project</h1>"
   ]
  },
  {
   "cell_type": "markdown",
   "metadata": {},
   "source": [
    "<h2>Milestone 1</h2>"
   ]
  },
  {
   "cell_type": "markdown",
   "metadata": {},
   "source": [
    "What is the question you hope to answer? \n",
    "- I'm interested in analyzing and possibly predicting customer behavior using customer segmentation. I'm looking into doing segmentation using clustering techniques and random forests as these topics are new to me.\n",
    "\n",
    "What data are you planning to use to answer that question? \n",
    "- I'll be using the Kaggle E-Commerce data from The UCI Machine Learning Repository (https://www.kaggle.com/carrie1/ecommerce-data)\n",
    "\n",
    "What do you know about the data so far? \n",
    "- It contains transactional data from Jan 12 2010 to Spetember 12 2011. The data has no missing values but do contain duplicate entries that I might need to drop.\n",
    "\n",
    "Why did you choose this topic?\n",
    "- I chose this topic because I'm interested in getting insights on the customers we serve and possibly serve them better through these insights"
   ]
  },
  {
   "cell_type": "code",
   "execution_count": null,
   "metadata": {},
   "outputs": [],
   "source": []
  }
 ],
 "metadata": {
  "kernelspec": {
   "display_name": "Python 3",
   "language": "python",
   "name": "python3"
  },
  "language_info": {
   "codemirror_mode": {
    "name": "ipython",
    "version": 3
   },
   "file_extension": ".py",
   "mimetype": "text/x-python",
   "name": "python",
   "nbconvert_exporter": "python",
   "pygments_lexer": "ipython3",
   "version": "3.6.5"
  }
 },
 "nbformat": 4,
 "nbformat_minor": 2
}
